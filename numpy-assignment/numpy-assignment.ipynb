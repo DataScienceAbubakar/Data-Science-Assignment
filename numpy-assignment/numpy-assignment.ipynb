{
 "cells": [
  {
   "cell_type": "code",
   "execution_count": 18,
   "metadata": {},
   "outputs": [],
   "source": [
    "import numpy as np\n",
    "\n"
   ]
  },
  {
   "cell_type": "markdown",
   "metadata": {},
   "source": [
    "print numpy version"
   ]
  },
  {
   "cell_type": "code",
   "execution_count": 19,
   "metadata": {},
   "outputs": [
    {
     "name": "stdout",
     "output_type": "stream",
     "text": [
      "<module 'numpy.version' from '/home/abubakar/miniconda3/envs/datascience/lib/python3.8/site-packages/numpy/version.py'>\n"
     ]
    }
   ],
   "source": [
    "print (np.version)"
   ]
  },
  {
   "cell_type": "markdown",
   "metadata": {},
   "source": [
    "create a null vector of size 10"
   ]
  },
  {
   "cell_type": "code",
   "execution_count": 20,
   "metadata": {},
   "outputs": [
    {
     "name": "stdout",
     "output_type": "stream",
     "text": [
      "[0. 0. 0. 0. 0. 0. 0. 0. 0. 0.]\n"
     ]
    }
   ],
   "source": [
    "null_vector = np.zeros(10)\n",
    "print (null_vector)\n"
   ]
  },
  {
   "cell_type": "markdown",
   "metadata": {},
   "source": [
    "to find the memory size of an array, you use the .nbytes function"
   ]
  },
  {
   "cell_type": "markdown",
   "metadata": {},
   "source": [
    "you get the documentation of Numpy add function through the command line by entering \"pydoc numpy.add\" in your command"
   ]
  },
  {
   "cell_type": "code",
   "execution_count": 21,
   "metadata": {},
   "outputs": [
    {
     "name": "stdout",
     "output_type": "stream",
     "text": [
      "[0. 0. 0. 0. 1. 0. 0. 0. 0. 0.]\n"
     ]
    }
   ],
   "source": [
    "#create a vector of null values but the 5th value is 1\n",
    "null_vectors2= np.zeros(10)\n",
    "null_vectors2[4]= 1\n",
    "print (null_vectors2)"
   ]
  },
  {
   "cell_type": "code",
   "execution_count": 22,
   "metadata": {},
   "outputs": [
    {
     "name": "stdout",
     "output_type": "stream",
     "text": [
      "[10 11 12 13 14 15 16 17 18 19 20 21 22 23 24 25 26 27 28 29 30 31 32 33\n",
      " 34 35 36 37 38 39 40 41 42 43 44 45 46 47 48 49]\n"
     ]
    }
   ],
   "source": [
    "#create a vector with values ranging from 10-49\n",
    "vectors= np.arange (10,50)\n",
    "print (vectors)"
   ]
  },
  {
   "cell_type": "code",
   "execution_count": 23,
   "metadata": {},
   "outputs": [
    {
     "name": "stdout",
     "output_type": "stream",
     "text": [
      "[49 48 47 46 45 44 43 42 41 40 39 38 37 36 35 34 33 32 31 30 29 28 27 26\n",
      " 25 24 23 22 21 20 19 18 17 16 15 14 13 12 11 10]\n"
     ]
    }
   ],
   "source": [
    "#reverse the vector\n",
    "reversed_vector = vectors[::-1]\n",
    "print (reversed_vector)"
   ]
  },
  {
   "cell_type": "code",
   "execution_count": 24,
   "metadata": {},
   "outputs": [
    {
     "name": "stdout",
     "output_type": "stream",
     "text": [
      "[[0 1 2]\n",
      " [3 4 5]\n",
      " [6 7 8]]\n"
     ]
    }
   ],
   "source": [
    "#create a 3x3 matrix 0-8\n",
    "matrix= np.arange(9).reshape(3,3)\n",
    "print (matrix)\n"
   ]
  },
  {
   "cell_type": "code",
   "execution_count": 25,
   "metadata": {},
   "outputs": [
    {
     "name": "stdout",
     "output_type": "stream",
     "text": [
      "(array([0, 1, 4]),)\n"
     ]
    }
   ],
   "source": [
    "#FIND THE INDICES OF NON-ZERO ELEMENTS\n",
    "arr=np.array ([1,2,0,0,4,0])\n",
    "none_zero = np.nonzero(arr)\n",
    "print (none_zero)\n"
   ]
  },
  {
   "cell_type": "code",
   "execution_count": 26,
   "metadata": {},
   "outputs": [
    {
     "name": "stdout",
     "output_type": "stream",
     "text": [
      "[[1. 0. 0.]\n",
      " [0. 1. 0.]\n",
      " [0. 0. 1.]]\n"
     ]
    }
   ],
   "source": [
    "#CREATE A 3x3 IDENTITY MATRIX\n",
    "identity_matrix = np.eye(3)\n",
    "print (identity_matrix)\n"
   ]
  },
  {
   "cell_type": "code",
   "execution_count": 27,
   "metadata": {},
   "outputs": [
    {
     "name": "stdout",
     "output_type": "stream",
     "text": [
      "[[[0.75581801 0.59973656 0.31371905]\n",
      "  [0.05745786 0.77431578 0.6706081 ]\n",
      "  [0.72712788 0.76957892 0.32356034]]\n",
      "\n",
      " [[0.61824554 0.21399238 0.89500313]\n",
      "  [0.35554435 0.61368434 0.59054006]\n",
      "  [0.62829238 0.2769666  0.21367658]]\n",
      "\n",
      " [[0.40405428 0.16890282 0.96471999]\n",
      "  [0.0481835  0.00143246 0.85068874]\n",
      "  [0.87504658 0.92220062 0.35786008]]]\n"
     ]
    }
   ],
   "source": [
    "#CREATE A 3x3x3 ARRAY WITH RANDOM VALUES\n",
    "random_array = np.random.rand (3,3,3)\n",
    "print (random_array)\n"
   ]
  },
  {
   "cell_type": "code",
   "execution_count": 28,
   "metadata": {},
   "outputs": [
    {
     "name": "stdout",
     "output_type": "stream",
     "text": [
      "[[0.79784052 0.56616236 0.26323964 0.72773104 0.73755223 0.85689894\n",
      "  0.10530323 0.67804321 0.53288065 0.9454367 ]\n",
      " [0.44548439 0.44175343 0.09160609 0.59299797 0.49289413 0.22019427\n",
      "  0.3855878  0.9569387  0.46878381 0.62657559]\n",
      " [0.88008182 0.18582432 0.90839675 0.38401473 0.29885357 0.11308402\n",
      "  0.04117649 0.95453378 0.2110944  0.01197106]\n",
      " [0.33390419 0.59479316 0.88324929 0.87307097 0.900821   0.00579348\n",
      "  0.14515648 0.29278718 0.36083946 0.29878546]\n",
      " [0.51211624 0.82672982 0.96663082 0.48300077 0.65326758 0.22141907\n",
      "  0.00263438 0.19042504 0.37277301 0.74101714]\n",
      " [0.82754856 0.80182089 0.23494626 0.87111661 0.97236494 0.40292393\n",
      "  0.02788478 0.85672029 0.69837165 0.18081043]\n",
      " [0.01528629 0.48927997 0.52384505 0.18226186 0.13429817 0.83174489\n",
      "  0.50889441 0.27952711 0.42502956 0.31118589]\n",
      " [0.52352978 0.30064648 0.23346619 0.72383424 0.38007656 0.86536029\n",
      "  0.20256968 0.45204942 0.39833609 0.66329771]\n",
      " [0.45646937 0.32977811 0.35476638 0.56043108 0.1005545  0.14337383\n",
      "  0.78551527 0.36635043 0.31937707 0.9174206 ]\n",
      " [0.994576   0.38460904 0.0772983  0.57060336 0.3055603  0.19266238\n",
      "  0.10700326 0.56867546 0.56942693 0.95227633]]\n",
      "The minimum value is 0.002634380233010103\n",
      "The maximum value is 0.9945759983461666\n"
     ]
    }
   ],
   "source": [
    "#CREATE 10x10 ARRAY WITH RANDOM VALUES. FIND THE MINIMUM AND MAXIMUM VALUES\n",
    "ten_array = np.random.rand(10,10)\n",
    "print (ten_array)\n",
    "print ('The minimum value is', np.min(ten_array))\n",
    "print (\"The maximum value is\", np.max(ten_array))\n",
    "\n"
   ]
  },
  {
   "cell_type": "code",
   "execution_count": 29,
   "metadata": {},
   "outputs": [
    {
     "name": "stdout",
     "output_type": "stream",
     "text": [
      "[0.38394993 0.1683083  0.2554773  0.89135618 0.41019508 0.21710691\n",
      " 0.57803786 0.40323954 0.92688498 0.66767644 0.24070957 0.53644881\n",
      " 0.05871048 0.18078052 0.72395637 0.3599133  0.98803019 0.31549662\n",
      " 0.44083813 0.91497639 0.64339015 0.32033324 0.531632   0.97329898\n",
      " 0.83854049 0.51984917 0.68714571 0.23589533 0.6347051  0.14691576]\n",
      "The mean of the random vector is 0.5064599612991458\n"
     ]
    }
   ],
   "source": [
    "#Create a random vector of size 30and find the mean\n",
    "size_30 = np.random.rand (30)\n",
    "print (size_30)\n",
    "print (\"The mean of the random vector is\", np.mean(size_30))\n"
   ]
  },
  {
   "cell_type": "code",
   "execution_count": 30,
   "metadata": {},
   "outputs": [
    {
     "name": "stdout",
     "output_type": "stream",
     "text": [
      "[[1. 1. 1. 1. 1.]\n",
      " [1. 0. 0. 0. 1.]\n",
      " [1. 0. 0. 0. 1.]\n",
      " [1. 0. 0. 0. 1.]\n",
      " [1. 1. 1. 1. 1.]]\n"
     ]
    }
   ],
   "source": [
    "\n",
    "rows = 5\n",
    "cols = 5\n",
    "\n",
    "# Create a matrix of zeros\n",
    "array = np.zeros((rows, cols))\n",
    "\n",
    "# Set the border elements to 1\n",
    "array[0, :] = 1  # top row\n",
    "array[-1, :] = 1  # bottom row\n",
    "array[:, 0] = 1  # leftmost column\n",
    "array[:, -1] = 1  # rightmost column\n",
    "print(array)"
   ]
  },
  {
   "cell_type": "markdown",
   "metadata": {},
   "source": [
    "To add a border filled with zeros around an existing array, one has to first create the array, then use the indexing numbers round the array (top row, bottom row, leftmost and rightmost columns)\n"
   ]
  },
  {
   "cell_type": "code",
   "execution_count": null,
   "metadata": {},
   "outputs": [],
   "source": [
    "#CREATE A 5x5 MATRIX WITH VALUES 1234 BELOW THE DIAGONAL\n",
    "MATRIX= np.zeros((5,5))\n",
    "np.fill_diagonal(MATRIX[1:].[1,2,3,4])\n",
    "print (MATRIX)"
   ]
  },
  {
   "cell_type": "code",
   "execution_count": null,
   "metadata": {},
   "outputs": [],
   "source": [
    "#Create 8x8 matrix and fill it with checkerboard pattern\n",
    "matrix = np.zeros((8, 8), dtype=int)\n",
    "\n",
    "# Fill the checkerboard pattern\n",
    "matrix[1::2, ::2] = 1  # Odd rows, even columns\n",
    "matrix[::2, 1::2] = 1  # Even rows, odd columns\n",
    "\n",
    "print(matrix)"
   ]
  }
 ],
 "metadata": {
  "kernelspec": {
   "display_name": "datascience",
   "language": "python",
   "name": "python3"
  },
  "language_info": {
   "codemirror_mode": {
    "name": "ipython",
    "version": 3
   },
   "file_extension": ".py",
   "mimetype": "text/x-python",
   "name": "python",
   "nbconvert_exporter": "python",
   "pygments_lexer": "ipython3",
   "version": "3.8.18"
  }
 },
 "nbformat": 4,
 "nbformat_minor": 2
}
